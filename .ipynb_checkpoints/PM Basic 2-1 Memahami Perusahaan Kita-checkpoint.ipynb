{
 "cells": [
  {
   "cell_type": "markdown",
   "id": "06e715cc",
   "metadata": {},
   "source": [
    "# Chapter 2.1 Memahami Perusahaan Kita\n",
    "\n",
    "## Pembukaan\n",
    "### Pengantar\n",
    "\n",
    "## Memahami Business Model Perusahaan\n",
    "### Apa Itu Bisnis Model?\n",
    "### Menggunakan Business Model Canvas\n",
    "### Lebih Dalam Soal Business Model Canvas\n",
    "\n",
    "## Memahami Struktur Organisasi Perusahaan \n",
    "### Biar Gak Salah Baca Situasi\n",
    "### Beberapa Macam Struktur Organisasi\n",
    "\n",
    "## Memahami Metrics Perusahaan\n",
    "### Apa Itu Metrics Perusahaan?\n",
    "### Goal-Setting dengan OKR\n",
    "### Memonitor Performa dengan KPI\n",
    "\n",
    "## Memahami Change Management\n",
    "### Apa Sih Change Management?\n",
    "### Bagaimana Cara Mengelola Perusahaan?\n",
    "### Bagaimana Cara Mengelola Perusahaan?\n",
    "\n",
    "## Rangkuman \n",
    "### Summary"
   ]
  }
 ],
 "metadata": {
  "kernelspec": {
   "display_name": "Python 3 (ipykernel)",
   "language": "python",
   "name": "python3"
  },
  "language_info": {
   "codemirror_mode": {
    "name": "ipython",
    "version": 3
   },
   "file_extension": ".py",
   "mimetype": "text/x-python",
   "name": "python",
   "nbconvert_exporter": "python",
   "pygments_lexer": "ipython3",
   "version": "3.9.12"
  }
 },
 "nbformat": 4,
 "nbformat_minor": 5
}
