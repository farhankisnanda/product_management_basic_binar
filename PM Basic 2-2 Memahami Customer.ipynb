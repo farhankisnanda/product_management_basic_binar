{
 "cells": [
  {
   "cell_type": "markdown",
   "id": "79328403",
   "metadata": {},
   "source": [
    "# Chapter 2.2: Memahami Customer\n",
    "\n",
    "\n",
    "## Mengenal User Persona\n",
    "### Memahami Definisi User Persona\n",
    "\n",
    "User Persona adalah tokoh fiktif yang merupakan represntasi dari target customer kita. Persona ini terdiri dari Person dan Activity. User Persona bukan tokoh fiktif hasil mengarang bebas tapi harus dibuat dengan riset yang mendalam.\n",
    "\n",
    "### Memahami 4 Tipe User Persona\n",
    "1. Goal-directed Personas, adalah persona yang tujuan pembuatannya berorientasi pada tujuan atau goal user ketika berinteraksi dengan produk kita.Kita bisa melakukan riset dengan memperhatikan :\n",
    "- Keterkaitan persona dengan produk yang akan dirancang, \n",
    "- Emosi persona saat menggunakan produk, \n",
    "- Tujuan persona dalam menggunakan produk.\n",
    "2. Role-Based Personas, tipe ini berfokus pada role atau peran user dalam keseluruhan pangsa pasar kita, dan dalam kehidupannya sehari-hari. Jadi kalau dijabarin, tipe ini akan mencari tau : \n",
    "- Seberapa besar pangsa pasar kita yang diwakili oleh persona ini \n",
    "- Seberapa besar pengaruh pasar yang dimiliki persona\n",
    "- Harapan dan ketakutan persona dalam keseharian\n",
    "- Bagaimana persona menjalani hari-harinya.\n",
    "3. Engaging Personas, tipe user persona ini, maksudnya adalah kita mengembangkan cerita atau pengalaman nyata ketika mendeskripsikan user persona kita. Hal ini tujuannya agar kita tidak memikirkan user persona hanya sebagai karakter tipikal yang hanya hidup di pemikiran kita, namun memang merupakan individu nyata yang menggunakan produk kita. Tipe persona ini bisa dibentuk dari hasil refleksi kita sendiri dalam keseharian. Tipe ini menjadi menarik karena informasi akan mencakup tentang latar belakang sosial user, karakteristik psikologis user, dan hubungan emosional user berkaitan dengan area fokus. Deskripsi persona ini harus menyeimbangkan antara data dan pengetahuan mengenai perilaku seseorang situasi nyata dan informasi fiksi yang kita buat.\n",
    "4. Proto Persona / Fiction Persona, adalah proses menyusun persona dengan mengandalkan perkiraan. Proto persona biasanya digunakan kalo perusahaan ngga punya cukup waktu buat long research. Jadinya, tim akan kira-kira aja deh, user seperti apa? dan kebutuhan mereka seperti apa? Loh emang boleh? Boleh~ tapi ngga sebebas itu. Hasil rumusan proto persona ini harus tetep di validasi lagi sama penelitian yang udah ada atau akan dibuat nanti. Dengan kata lain, tipe ini dibuat berdasarkan asumsi dari interaksi tim perancang dengan pengguna produk serupa di masa lalu.\n",
    "Glossary\n",
    "- Pain Point : kesulitan yang dialami oleh calon customer\n",
    "- User : pengguna layanan\n",
    "\n",
    "## Pentingnya User Persona\n",
    "### Mengapa User Persona Penting\n",
    "\n",
    "User Persona menjadi penting karena kita akan berusaha agar produk kita menjadi individual fit untuk semua orang. Memaksakan orang-orang untuk menyesuaikan diri dengan sistem produk kita atau average fit, fitur atau produk jadi nggak gampang digunakan oleh target user. Individual fit adalah membuat sistem yang cocok dengan karakteristik user yang menjadi target customer\n",
    "\n",
    "### Tujuan User Persona\n",
    "\n",
    "User persona ini berguna banget biar kamu tau gambaran besar siapa customer perusahaanmu. Dengan kamu kenal customer, kamu jadi lebih gampang ngebayangin produk seperti apa yang sesuai dengan kebutuhan mereka. Oke, biar lebih jelas, kita bahas tujuan user persona! Gampangnya, user persona bertujuan untuk dapetin gambaran atau ngenalin secara real tentang customer utama dari produk yang kamu bikin. Supaya kamu bisa prediksi nih gimana perilaku customer-mu kedepannya.\n",
    "User persona akan digunakan untuk:\n",
    "- Validasi keputusan yang dibuat sama tim desain\n",
    "- Mengembangkan prioritas kalau ada konflik ide terutama mengenai sumber daya dan waktu\n",
    "- Dipake saat proses ideation untuk sumber inspirasi yang tetap berfokus kepada user\n",
    "- Jadi referensi ketika ada diskusi tentang ide dan feedback terhadap fitur/produk\n",
    "Glosarium: \n",
    "- Ideation, proses menciptakan ide dan mengaitkan ide dengan masalah.\n",
    "- Product management, proses pengembangan produk menggunakan cara terstruktur untuk mencapai tujuan\n",
    "## Elemen-Elemen User Persona\n",
    "### Elemen User Persona\n",
    "\n",
    "## Membuat User Persona\n",
    "### Langkah-Langkah Membuat User Persona\n",
    "### Dos dan Dont's dalam Membuat User Persona\n",
    "\n",
    "## Rangkuman \n",
    "### Summary"
   ]
  }
 ],
 "metadata": {
  "kernelspec": {
   "display_name": "Python 3 (ipykernel)",
   "language": "python",
   "name": "python3"
  },
  "language_info": {
   "codemirror_mode": {
    "name": "ipython",
    "version": 3
   },
   "file_extension": ".py",
   "mimetype": "text/x-python",
   "name": "python",
   "nbconvert_exporter": "python",
   "pygments_lexer": "ipython3",
   "version": "3.9.12"
  }
 },
 "nbformat": 4,
 "nbformat_minor": 5
}
